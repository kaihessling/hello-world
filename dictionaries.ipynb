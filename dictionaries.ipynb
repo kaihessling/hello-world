{
 "cells": [
  {
   "cell_type": "markdown",
   "id": "35c0cb62",
   "metadata": {},
   "source": [
    "# Daten in einem verschachtelten Dictionary speichern\n",
    "\n",
    "Datenstruktur soll sein:\n",
    "{Name : {Geburtstag : Tag. Monat, Geschlecht : m|w}}"
   ]
  },
  {
   "cell_type": "code",
   "execution_count": 1,
   "id": "d35803a1",
   "metadata": {},
   "outputs": [
    {
     "name": "stdout",
     "output_type": "stream",
     "text": [
      "Gib deinen Namen ein.\n",
      "Kai\n",
      "Wann ist dein Geburtstag?\n",
      "6. Mai 1967\n",
      "Gib dein Geschlecht ein: m oder w\n",
      "m\n"
     ]
    },
    {
     "data": {
      "text/plain": [
       "{'Kai': {'6. Mai 1967': 'm'}}"
      ]
     },
     "execution_count": 1,
     "metadata": {},
     "output_type": "execute_result"
    }
   ],
   "source": [
    "person = {}\n",
    "print('Gib deinen Namen ein.')\n",
    "name = input()\n",
    "print('Wann ist dein Geburtstag?')\n",
    "geburtstag = input()\n",
    "print(\"Gib dein Geschlecht ein: m oder w\")\n",
    "geschlecht = input()\n",
    "person.update({name: {geburtstag : geschlecht}})\n",
    "person\n",
    "    \n",
    "        \n",
    "    "
   ]
  },
  {
   "cell_type": "code",
   "execution_count": 2,
   "id": "80c70889",
   "metadata": {},
   "outputs": [
    {
     "data": {
      "text/plain": [
       "{'Hans': 'Peter'}"
      ]
     },
     "execution_count": 2,
     "metadata": {},
     "output_type": "execute_result"
    }
   ],
   "source": [
    "person[\"Hans\"] = \"Peter\"\n",
    "person"
   ]
  },
  {
   "cell_type": "code",
   "execution_count": 6,
   "id": "4f091dee",
   "metadata": {},
   "outputs": [
    {
     "name": "stdout",
     "output_type": "stream",
     "text": [
      "- Broetchen10\n"
     ]
    }
   ],
   "source": [
    "allegaeste = {'Nils' : {'Broetchen' : 10, 'Croissants' : 5},\n",
    "             'Heike' : {'Kuchen' : 1, 'Mufffins' : 20, 'Servietten' : 30},\n",
    "             'Peter': {'Teller' : 5, 'Tassen' : 5, 'Messer' : 10, 'Broetchen' : 15}}\n",
    "def allebringenmit (gaeste, item):\n",
    "    bringenmit = 0\n",
    "    for k, v in gaeste.items():\n",
    "        bringenmit = bringenmit + v.get(item, 0)\n",
    "        return bringenmit\n",
    "print('- Broetchen' + str(allebringenmit(allegaeste, 'Broetchen')))"
   ]
  },
  {
   "cell_type": "code",
   "execution_count": 1,
   "id": "8a6632c9",
   "metadata": {},
   "outputs": [
    {
     "name": "stdout",
     "output_type": "stream",
     "text": [
      "Gib einen Namen ein\n",
      "Kai\n",
      "Kein Geburtstag für Kai\n",
      "Wann ist der Geburtstag?\n",
      "6. Mai\n",
      "Geburtstagsliste aktualisiert\n",
      "Gib einen Namen ein\n",
      "Kai\n",
      "6. Mai ist der Geburtstag von Kai\n",
      "Gib einen Namen ein\n",
      "Heike\n",
      "Kein Geburtstag für Heike\n",
      "Wann ist der Geburtstag?\n",
      "30. Januar\n",
      "Geburtstagsliste aktualisiert\n",
      "Gib einen Namen ein\n",
      "Nils\n",
      "Kein Geburtstag für Nils\n",
      "Wann ist der Geburtstag?\n",
      "6. Juni\n",
      "Geburtstagsliste aktualisiert\n",
      "Gib einen Namen ein\n",
      "\n"
     ]
    },
    {
     "data": {
      "text/plain": [
       "{'Kai': '6. Mai', 'Heike': '30. Januar', 'Nils': '6. Juni'}"
      ]
     },
     "execution_count": 1,
     "metadata": {},
     "output_type": "execute_result"
    }
   ],
   "source": [
    "#geburtstage = {'Kai' : '6. Mai', 'Nils' : '3. Juni', 'Heike' : '30. Januar'}\n",
    "geburtstage = {}a\n",
    "while True:\n",
    "    print('Gib einen Namen ein')\n",
    "    name = input()\n",
    "    if name == '':\n",
    "        break\n",
    "    if name in geburtstage:\n",
    "        print(geburtstage[name] + ' ist der Geburtstag von ' + name)\n",
    "    else:\n",
    "        print('Kein Geburtstag für ' + name)\n",
    "        print('Wann ist der Geburtstag?')\n",
    "        geburtstag = input()\n",
    "        geburtstage[name] = geburtstag\n",
    "        geburtstage.update({name : geburtstag})\n",
    "        print('Geburtstagsliste aktualisiert')\n",
    "geburtstage"
   ]
  },
  {
   "cell_type": "code",
   "execution_count": 2,
   "id": "c5bc8529",
   "metadata": {},
   "outputs": [
    {
     "name": "stdout",
     "output_type": "stream",
     "text": [
      "Kai\n",
      "Heike\n",
      "Nils\n"
     ]
    }
   ],
   "source": [
    "geburtstage\n",
    "for k in geburtstage.keys():\n",
    "    print(k)       "
   ]
  },
  {
   "cell_type": "code",
   "execution_count": 3,
   "id": "0f37de4d",
   "metadata": {},
   "outputs": [
    {
     "name": "stdout",
     "output_type": "stream",
     "text": [
      "6. Mai\n",
      "30. Januar\n",
      "6. Juni\n"
     ]
    }
   ],
   "source": [
    "geburtstage\n",
    "for v in geburtstage.values():\n",
    "    print(v)      "
   ]
  },
  {
   "cell_type": "code",
   "execution_count": 4,
   "id": "3e59429d",
   "metadata": {},
   "outputs": [
    {
     "name": "stdout",
     "output_type": "stream",
     "text": [
      "('Kai', '6. Mai')\n",
      "('Heike', '30. Januar')\n",
      "('Nils', '6. Juni')\n"
     ]
    }
   ],
   "source": [
    "geburtstage\n",
    "for i in geburtstage.items():\n",
    "    print(i)      "
   ]
  },
  {
   "cell_type": "code",
   "execution_count": 5,
   "id": "c65fbc4c",
   "metadata": {},
   "outputs": [
    {
     "data": {
      "text/plain": [
       "{'Kai': '6. Mai',\n",
       " 'Heike': '30. Januar',\n",
       " 'Nils': '6. Juni',\n",
       " 'Hilde': '12. Januar'}"
      ]
     },
     "execution_count": 5,
     "metadata": {},
     "output_type": "execute_result"
    }
   ],
   "source": [
    "if 'Hilde' not in geburtstage:\n",
    "    geburtstage['Hilde'] = '12. Januar'\n",
    "  \n",
    "geburtstage"
   ]
  },
  {
   "cell_type": "code",
   "execution_count": 20,
   "id": "54cdcd1d",
   "metadata": {},
   "outputs": [
    {
     "name": "stdout",
     "output_type": "stream",
     "text": [
      "{' ': 200,\n",
      " ',': 32,\n",
      " '.': 31,\n",
      " 'A': 6,\n",
      " 'C': 3,\n",
      " 'D': 5,\n",
      " 'E': 3,\n",
      " 'I': 2,\n",
      " 'L': 1,\n",
      " 'M': 2,\n",
      " 'N': 5,\n",
      " 'P': 1,\n",
      " 'Q': 1,\n",
      " 'S': 2,\n",
      " 'V': 1,\n",
      " 'a': 84,\n",
      " 'b': 12,\n",
      " 'c': 41,\n",
      " 'd': 31,\n",
      " 'e': 148,\n",
      " 'f': 9,\n",
      " 'g': 19,\n",
      " 'h': 6,\n",
      " 'i': 105,\n",
      " 'j': 3,\n",
      " 'l': 63,\n",
      " 'm': 55,\n",
      " 'n': 77,\n",
      " 'o': 44,\n",
      " 'p': 25,\n",
      " 'q': 16,\n",
      " 'r': 50,\n",
      " 's': 84,\n",
      " 't': 87,\n",
      " 'u': 97,\n",
      " 'v': 18}\n"
     ]
    }
   ],
   "source": [
    "import pprint\n",
    "nachricht = 'Lorem ipsum dolor sit amet, consectetuer adipiscing elit. Aenean commodo ligula eget dolor. Aenean massa. Cum sociis natoque penatibus et magnis dis parturient montes, nascetur ridiculus mus. Donec quam felis, ultricies nec, pellentesque eu, pretium quis, sem. Nulla consequat massa quis enim. Donec pede justo, fringilla vel, aliquet nec, vulputate eget, arcu. In enim justo, rhoncus ut, imperdiet a, venenatis vitae, justo. Nullam dictum felis eu pede mollis pretium. Integer tincidunt. Cras dapibus. Vivamus elementum semper nisi. Aenean vulputate eleifend tellus. Aenean leo ligula, porttitor eu, consequat vitae, eleifend ac, enim. Aliquam lorem ante, dapibus in, viverra quis, feugiat a, tellus. Phasellus viverra nulla ut metus varius laoreet. Quisque rutrum. Aenean imperdiet. Etiam ultricies nisi vel augue. Curabitur ullamcorper ultricies nisi. Nam eget dui. Etiam rhoncus. Maecenas tempus, tellus eget condimentum rhoncus, sem quam semper libero, sit amet adipiscing sem neque sed ipsum. Nam quam nunc, blandit vel, luctus pulvinar, hendrerit id, lorem. Maecenas nec odio et ante tincidunt tempus. Donec vitae sapien ut libero venenatis faucibus. Nullam quis ante. Etiam sit amet orci eget eros faucibus tincidunt. Duis leo. Sed fringilla mauris sit amet nibh. Donec sodales sagittis magna. Sed consequat, leo eget bibendum sodales, augue velit cursus nunc, '\n",
    "count = {}\n",
    "for zeichen in nachricht:\n",
    "    count.setdefault(zeichen, 0)\n",
    "    count[zeichen] = count[zeichen] + 1\n",
    "print(pprint.pformat(count))"
   ]
  },
  {
   "cell_type": "code",
   "execution_count": 4,
   "id": "dcdd8092",
   "metadata": {},
   "outputs": [
    {
     "name": "stdout",
     "output_type": "stream",
     "text": [
      "Umrechnung von Celsius in Fahrenheit\n",
      "Bitte geben Sie eine Temperatur in Celsius ein: \n",
      "7\n",
      "7.0 Grad Celsius entsprechen 44.6 Grad Fahrenheit\n"
     ]
    }
   ],
   "source": [
    "print(\"Umrechnung von Celsius in Fahrenheit\")\n",
    "# Trennung einer Zeichenkette\n",
    "print(\"Bitte geben Sie eine\"\n",
    "\" Temperatur in Celsius ein: \")\n",
    "TemperaturInCelsius = float(input())\n",
    "# Trennung eines Ausdrucks\n",
    "TemperaturInFahrenheit = TemperaturInCelsius \\\n",
    "* 9 / 5 + 32\n",
    "# Trennung nach einem Komma\n",
    "print(TemperaturInCelsius, \"Grad Celsius entsprechen\",\n",
    "TemperaturInFahrenheit, \"Grad Fahrenheit\")"
   ]
  },
  {
   "cell_type": "code",
   "execution_count": 4,
   "id": "80ae242b",
   "metadata": {},
   "outputs": [
    {
     "name": "stdout",
     "output_type": "stream",
     "text": [
      "Ursprüngliches Dict: {'Peter': 31, 'Julia': 28, 'Werner': 35}\n",
      "---------------------------------------------\n",
      "Korrigiertes Dict: {'Peter': 31, 'Julia': 27, 'Werner': 35}\n",
      "---------------------------------------------\n",
      "Ergänzte Liste: {'Peter': 31, 'Julia': 27, 'Werner': 35, 'Moritz': 50}\n",
      "---------------------------------------------\n",
      "Nur ein Element 31\n",
      "---------------------------------------------\n",
      "Julia ist enthalten\n",
      "('Peter', 31)\n",
      "('Julia', 27)\n",
      "('Werner', 35)\n",
      "('Moritz', 50)\n",
      "Peter\n",
      "Julia\n",
      "Werner\n",
      "Moritz\n",
      "31\n",
      "27\n",
      "35\n",
      "50\n",
      "---------------------------------------------\n",
      "{'Peter': 31, 'Julia': 27, 'Werner': 35, 'Moritz': 50, 'Kai': 54, 'Heike': 53, 'Nils': 18}\n",
      "Anzahl:  7\n",
      "---------------------------------------------\n",
      "Nach Schlüsseln sortiert: [('Heike', 53), ('Julia', 27), ('Kai', 54), ('Moritz', 50), ('Nils', 18), ('Peter', 31), ('Werner', 35)]\n",
      "Name: Heike Alter: 53\n",
      "Name: Julia Alter: 27\n",
      "Name: Kai Alter: 54\n",
      "Name: Moritz Alter: 50\n",
      "Name: Nils Alter: 18\n",
      "Name: Peter Alter: 31\n",
      "Name: Werner Alter: 35\n",
      "Nach Werten sortiert: [('Nils', 18), ('Julia', 27), ('Peter', 31), ('Werner', 35), ('Moritz', 50), ('Heike', 53), ('Kai', 54)]\n",
      "Nils 18\n",
      "Julia 27\n",
      "Peter 31\n",
      "Werner 35\n",
      "Moritz 50\n",
      "Heike 53\n",
      "Kai 54\n"
     ]
    }
   ],
   "source": [
    "def trenn():\n",
    "    print(\"---------------------------------------------\")\n",
    "    \n",
    "alter = {\"Peter\":31, \"Julia\":28, \"Werner\":35}\n",
    "print(\"Ursprüngliches Dict:\", alter)\n",
    "trenn()\n",
    "\n",
    "# Ersetzen eines Wertes\n",
    "alter[\"Julia\"] = 27\n",
    "print(\"Korrigiertes Dict:\", alter)\n",
    "trenn()\n",
    "\n",
    "# Ein Element hinzufügen \n",
    "alter[\"Moritz\"] = 50\n",
    "print(\"Ergänzte Liste:\", alter)\n",
    "trenn()\n",
    "\n",
    "# Nur ein Element ausgeben\n",
    "print(\"Nur ein Element\", alter[\"Peter\"])\n",
    "trenn()\n",
    "\n",
    "if \"Julia\" in alter:\n",
    "    print(\"Julia ist enthalten\")\n",
    "\n",
    "for i in alter.items():\n",
    "    print(i)\n",
    "\n",
    "for i in alter.keys():\n",
    "    print(i)\n",
    "\n",
    "for i in alter.values():\n",
    "    print(i)\n",
    "trenn()\n",
    "\n",
    "# Aktualisieren\n",
    "alter2 = {\"Kai\":54, \"Heike\":53, \"Nils\":18}\n",
    "alter.update(alter2)\n",
    "print (alter)\n",
    "print(\"Anzahl: \", len(alter))\n",
    "trenn()\n",
    "\n",
    "# Sortierung\n",
    "sort_alter = sorted(alter.items(), key=lambda x:x[0])\n",
    "print(\"Nach Schlüsseln sortiert:\", sort_alter)\n",
    "\n",
    "for i in sort_alter:\n",
    "    print(\"Name:\", i[0], \"Alter:\", i[1])\n",
    "    \n",
    "sort_alter = sorted(alter.items(), key=lambda x:x[1])\n",
    "print(\"Nach Werten sortiert:\", sort_alter)\n",
    "\n",
    "for i in sort_alter:\n",
    "    print(i[0], i[1])\n",
    "\n",
    "\n",
    "\n"
   ]
  },
  {
   "cell_type": "code",
   "execution_count": 3,
   "id": "ed4942eb",
   "metadata": {},
   "outputs": [
    {
     "data": {
      "text/plain": [
       "['__class__',\n",
       " '__class_getitem__',\n",
       " '__contains__',\n",
       " '__delattr__',\n",
       " '__delitem__',\n",
       " '__dir__',\n",
       " '__doc__',\n",
       " '__eq__',\n",
       " '__format__',\n",
       " '__ge__',\n",
       " '__getattribute__',\n",
       " '__getitem__',\n",
       " '__gt__',\n",
       " '__hash__',\n",
       " '__init__',\n",
       " '__init_subclass__',\n",
       " '__ior__',\n",
       " '__iter__',\n",
       " '__le__',\n",
       " '__len__',\n",
       " '__lt__',\n",
       " '__ne__',\n",
       " '__new__',\n",
       " '__or__',\n",
       " '__reduce__',\n",
       " '__reduce_ex__',\n",
       " '__repr__',\n",
       " '__reversed__',\n",
       " '__ror__',\n",
       " '__setattr__',\n",
       " '__setitem__',\n",
       " '__sizeof__',\n",
       " '__str__',\n",
       " '__subclasshook__',\n",
       " 'clear',\n",
       " 'copy',\n",
       " 'fromkeys',\n",
       " 'get',\n",
       " 'items',\n",
       " 'keys',\n",
       " 'pop',\n",
       " 'popitem',\n",
       " 'setdefault',\n",
       " 'update',\n",
       " 'values']"
      ]
     },
     "execution_count": 3,
     "metadata": {},
     "output_type": "execute_result"
    }
   ],
   "source": [
    "dir(dict)"
   ]
  },
  {
   "cell_type": "code",
   "execution_count": 5,
   "id": "e76ab4e9",
   "metadata": {},
   "outputs": [
    {
     "data": {
      "text/plain": [
       "{'Peter': 31,\n",
       " 'Julia': 27,\n",
       " 'Werner': 35,\n",
       " 'Moritz': 50,\n",
       " 'Kai': 54,\n",
       " 'Heike': 53,\n",
       " 'Nils': 18}"
      ]
     },
     "execution_count": 5,
     "metadata": {},
     "output_type": "execute_result"
    }
   ],
   "source": [
    "alter"
   ]
  },
  {
   "cell_type": "code",
   "execution_count": 6,
   "id": "79fe3fb6",
   "metadata": {},
   "outputs": [
    {
     "data": {
      "text/plain": [
       "{'Peter': 31,\n",
       " 'Julia': 27,\n",
       " 'Werner': 35,\n",
       " 'Moritz': 50,\n",
       " 'Kai': 54,\n",
       " 'Heike': 53,\n",
       " 'Nils': 18}"
      ]
     },
     "execution_count": 6,
     "metadata": {},
     "output_type": "execute_result"
    }
   ],
   "source": [
    "alter_2 = alter.copy()\n",
    "alter_2"
   ]
  },
  {
   "cell_type": "code",
   "execution_count": 17,
   "id": "28d087a5",
   "metadata": {},
   "outputs": [
    {
     "data": {
      "text/plain": [
       "{'Peter': None,\n",
       " 'Julia': None,\n",
       " 'Werner': None,\n",
       " 'Moritz': None,\n",
       " 'Kai': None,\n",
       " 'Heike': None,\n",
       " 'Nils': None}"
      ]
     },
     "execution_count": 17,
     "metadata": {},
     "output_type": "execute_result"
    }
   ],
   "source": [
    "dict.fromkeys(alter_2)\n"
   ]
  },
  {
   "cell_type": "code",
   "execution_count": 21,
   "id": "f3b8a03a",
   "metadata": {},
   "outputs": [
    {
     "data": {
      "text/plain": [
       "31"
      ]
     },
     "execution_count": 21,
     "metadata": {},
     "output_type": "execute_result"
    }
   ],
   "source": [
    "alter_2.get(\"Peter\")"
   ]
  },
  {
   "cell_type": "code",
   "execution_count": 22,
   "id": "bcd07444",
   "metadata": {},
   "outputs": [
    {
     "data": {
      "text/plain": [
       "dict_values([31, 27, 35, 50, 54, 53, 18])"
      ]
     },
     "execution_count": 22,
     "metadata": {},
     "output_type": "execute_result"
    }
   ],
   "source": [
    "alter_2.values()"
   ]
  },
  {
   "cell_type": "code",
   "execution_count": 26,
   "id": "983c497c",
   "metadata": {},
   "outputs": [
    {
     "data": {
      "text/plain": [
       "dict_keys(['Peter', 'Julia', 'Werner', 'Moritz', 'Kai', 'Heike', 'Nils'])"
      ]
     },
     "execution_count": 26,
     "metadata": {},
     "output_type": "execute_result"
    }
   ],
   "source": [
    "neue_liste = alter_2.keys()\n",
    "neue_liste"
   ]
  },
  {
   "cell_type": "code",
   "execution_count": 28,
   "id": "23a4270f",
   "metadata": {},
   "outputs": [
    {
     "data": {
      "text/plain": [
       "dict_keys"
      ]
     },
     "execution_count": 28,
     "metadata": {},
     "output_type": "execute_result"
    }
   ],
   "source": [
    "type(neue_liste)"
   ]
  },
  {
   "cell_type": "code",
   "execution_count": 29,
   "id": "6a8084f3",
   "metadata": {},
   "outputs": [
    {
     "data": {
      "text/plain": [
       "dict"
      ]
     },
     "execution_count": 29,
     "metadata": {},
     "output_type": "execute_result"
    }
   ],
   "source": [
    "type(alter)"
   ]
  },
  {
   "cell_type": "code",
   "execution_count": null,
   "id": "1d1133fd",
   "metadata": {},
   "outputs": [],
   "source": []
  }
 ],
 "metadata": {
  "kernelspec": {
   "display_name": "Python 3 (ipykernel)",
   "language": "python",
   "name": "python3"
  },
  "language_info": {
   "codemirror_mode": {
    "name": "ipython",
    "version": 3
   },
   "file_extension": ".py",
   "mimetype": "text/x-python",
   "name": "python",
   "nbconvert_exporter": "python",
   "pygments_lexer": "ipython3",
   "version": "3.10.5"
  }
 },
 "nbformat": 4,
 "nbformat_minor": 5
}
